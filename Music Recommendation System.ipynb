{
 "cells": [
  {
   "cell_type": "code",
   "execution_count": 21,
   "id": "bab0b79e",
   "metadata": {},
   "outputs": [],
   "source": [
    "import pandas as pd\n",
    "import numpy as np"
   ]
  },
  {
   "cell_type": "code",
   "execution_count": 22,
   "id": "e257fce4",
   "metadata": {},
   "outputs": [
    {
     "data": {
      "text/html": [
       "<div>\n",
       "<style scoped>\n",
       "    .dataframe tbody tr th:only-of-type {\n",
       "        vertical-align: middle;\n",
       "    }\n",
       "\n",
       "    .dataframe tbody tr th {\n",
       "        vertical-align: top;\n",
       "    }\n",
       "\n",
       "    .dataframe thead th {\n",
       "        text-align: right;\n",
       "    }\n",
       "</style>\n",
       "<table border=\"1\" class=\"dataframe\">\n",
       "  <thead>\n",
       "    <tr style=\"text-align: right;\">\n",
       "      <th></th>\n",
       "      <th>artist</th>\n",
       "      <th>song</th>\n",
       "      <th>link</th>\n",
       "      <th>text</th>\n",
       "    </tr>\n",
       "  </thead>\n",
       "  <tbody>\n",
       "    <tr>\n",
       "      <th>0</th>\n",
       "      <td>ABBA</td>\n",
       "      <td>Ahe's My Kind Of Girl</td>\n",
       "      <td>/a/abba/ahes+my+kind+of+girl_20598417.html</td>\n",
       "      <td>Look at her face, it's a wonderful face  \\nAnd...</td>\n",
       "    </tr>\n",
       "    <tr>\n",
       "      <th>1</th>\n",
       "      <td>ABBA</td>\n",
       "      <td>Andante, Andante</td>\n",
       "      <td>/a/abba/andante+andante_20002708.html</td>\n",
       "      <td>Take it easy with me, please  \\nTouch me gentl...</td>\n",
       "    </tr>\n",
       "    <tr>\n",
       "      <th>2</th>\n",
       "      <td>ABBA</td>\n",
       "      <td>As Good As New</td>\n",
       "      <td>/a/abba/as+good+as+new_20003033.html</td>\n",
       "      <td>I'll never know why I had to go  \\nWhy I had t...</td>\n",
       "    </tr>\n",
       "  </tbody>\n",
       "</table>\n",
       "</div>"
      ],
      "text/plain": [
       "  artist                   song                                        link  \\\n",
       "0   ABBA  Ahe's My Kind Of Girl  /a/abba/ahes+my+kind+of+girl_20598417.html   \n",
       "1   ABBA       Andante, Andante       /a/abba/andante+andante_20002708.html   \n",
       "2   ABBA         As Good As New        /a/abba/as+good+as+new_20003033.html   \n",
       "\n",
       "                                                text  \n",
       "0  Look at her face, it's a wonderful face  \\nAnd...  \n",
       "1  Take it easy with me, please  \\nTouch me gentl...  \n",
       "2  I'll never know why I had to go  \\nWhy I had t...  "
      ]
     },
     "execution_count": 22,
     "metadata": {},
     "output_type": "execute_result"
    }
   ],
   "source": [
    "df = pd.read_csv('songdata.csv')\n",
    "df.head(3)"
   ]
  },
  {
   "cell_type": "code",
   "execution_count": 23,
   "id": "165df3b2",
   "metadata": {},
   "outputs": [
    {
     "data": {
      "text/plain": [
       "(57650, 4)"
      ]
     },
     "execution_count": 23,
     "metadata": {},
     "output_type": "execute_result"
    }
   ],
   "source": [
    "df.shape"
   ]
  },
  {
   "cell_type": "code",
   "execution_count": 24,
   "id": "9fb6004b",
   "metadata": {},
   "outputs": [],
   "source": [
    "df = df.sample(n=5000).drop('link', axis=1).reset_index(drop=True)"
   ]
  },
  {
   "cell_type": "code",
   "execution_count": 25,
   "id": "52eee439",
   "metadata": {},
   "outputs": [
    {
     "data": {
      "text/plain": [
       "(5000, 3)"
      ]
     },
     "execution_count": 25,
     "metadata": {},
     "output_type": "execute_result"
    }
   ],
   "source": [
    "df.shape"
   ]
  },
  {
   "cell_type": "code",
   "execution_count": 26,
   "id": "3c6bb6f9",
   "metadata": {},
   "outputs": [],
   "source": [
    "df['text'] = df['text'].str.lower().replace(r'[^\\w\\s]','').replace(r'\\n',' ', regex=True)"
   ]
  },
  {
   "cell_type": "code",
   "execution_count": 27,
   "id": "bd4b8361",
   "metadata": {},
   "outputs": [
    {
     "data": {
      "text/plain": [
       "\"[hook]   uh, uh yeah, yeah, oh   rap's new generation, n-n-next g-gen-gene-generation   rap's new generation   rap's new generation, n-n-next g-gen-gene-generation   [jo jo pellegrino]   well, say hello to the rap al capone, south with pone   tommy gun duck fitted to my mouth is chrome   don't get it backwards, stuck shore south is home   pelle who, soon to be caked out and blown   boss of the bosses, pricehead, soldier apparel   read the paper in my bed robe like tony soprano   throw em' all in the bottomless pit   for rockin' bowling shoes, talk about rocks and shit   [cadillac tah]   yo, you bitch niggas is prey, time pay   i leave you shrumped in this five coupe [errr]   faggot nigga i slide through   any hood representin' my set, generation is new   but i wear this tech like a vest   spit and tear up ya vest   d-a double d for that dough   hit em' where it hurt most   you niggas ain't comin' close   i run up, gun up, hit you and ya done up, playa you ghost   we killers, violator, murderer niggas   [hook]   [r.c.]   it's the violator, clip changer, mix the mayor   got trick eight to throw more kisses than jada   and a bitch serve the guard properly   she give me blows under the belt like a dirty boxer   it's r. cadillac's on twenty-twos   and jewels that give you cataracts, bitch who you foolin'   they gave me eight bars, no room to breathe   and eight darts nigga, no one to leave   [fabolous]   i come out with fire   stop, drop, roll out the booth   th rims come out the tires   i stop, hop fall off the roof   only thing you should know is that's them hoin'   this playa comin' back with the 4-5, like m. jordan   it's spelled with a capital f   see everything from the sweater to the scarf to the capital f   now with the hoodrats, i'm like the rappin' hugh hef   better known as f-a-be -o-l-o-you-s   [hook]   [fortune]   it's time to separate the oil from the cut and gotten the pot   so when the flame rise niggas gon' respect what's hot   four chain glock on em' with no warning   leave ya hood like a circle with no corners   made dough with the pot, heatin' and raisin'   been around more pies than sweet potatoes   violators, big dogs respect the line   niggas act, i'ma tear em' up in the club like shyne   [remy martin]   why'all know if i spill sixteen it's a massive commodity   [machine gun firing]   so i'ma just lay eight and etch the bodies   everybody knows who's the hottest bitch   and that's why i'm the only bitch on this shit   and any ho that chu' know love rem and nick   cause i spit as if i had a dick   this rap shit i done mastered it, 8-ball assassin chick   want to give it to me but they know i'm not havin' it   [hook]  \""
      ]
     },
     "execution_count": 27,
     "metadata": {},
     "output_type": "execute_result"
    }
   ],
   "source": [
    "df['text'][0]"
   ]
  },
  {
   "cell_type": "code",
   "execution_count": 28,
   "id": "3a3260a2",
   "metadata": {},
   "outputs": [],
   "source": [
    "import nltk\n",
    "from nltk.stem.porter import PorterStemmer\n",
    "stemmer = PorterStemmer()\n",
    "\n",
    "def tokenization(txt):\n",
    "    tokens = nltk.word_tokenize(txt)\n",
    "    stemming = [stemmer.stem(w) for w in tokens]\n",
    "    return \" \".join(stemming)"
   ]
  },
  {
   "cell_type": "code",
   "execution_count": 29,
   "id": "c8d093cf",
   "metadata": {},
   "outputs": [
    {
     "data": {
      "text/plain": [
       "0       [hook]   uh, uh yeah, yeah, oh   rap's new gen...\n",
       "1       you were born with a face that would let you g...\n",
       "2       where are those happy days, they seem so hard ...\n",
       "3       i wish i , i wish i was in richmond   i do, i ...\n",
       "4       sun comes up on this new morning   shifting sh...\n",
       "                              ...                        \n",
       "4995    what the hell am i?   thousand eyes, a fly   l...\n",
       "4996    i, i who have nothing   i, i who have no one  ...\n",
       "4997    yesterday feels like running away   feels like...\n",
       "4998    don't be shy   just let your feelings roll on ...\n",
       "4999    lady, are you crying, do the tears belong to m...\n",
       "Name: text, Length: 5000, dtype: object"
      ]
     },
     "execution_count": 29,
     "metadata": {},
     "output_type": "execute_result"
    }
   ],
   "source": [
    "df['text']"
   ]
  },
  {
   "cell_type": "code",
   "execution_count": 30,
   "id": "6cbe4483",
   "metadata": {},
   "outputs": [],
   "source": [
    "df['text'] = df['text'].apply(lambda x: tokenization(x))"
   ]
  },
  {
   "cell_type": "code",
   "execution_count": 31,
   "id": "36974948",
   "metadata": {},
   "outputs": [],
   "source": [
    "from sklearn.feature_extraction.text import TfidfVectorizer\n",
    "from sklearn.metrics.pairwise import cosine_similarity"
   ]
  },
  {
   "cell_type": "code",
   "execution_count": 32,
   "id": "203ad57e",
   "metadata": {},
   "outputs": [],
   "source": [
    "tfidvector = TfidfVectorizer(analyzer='word',stop_words='english')\n",
    "matrix = tfidvector.fit_transform(df['text'])\n",
    "similarity = cosine_similarity(matrix)"
   ]
  },
  {
   "cell_type": "code",
   "execution_count": 33,
   "id": "06efd00d",
   "metadata": {},
   "outputs": [
    {
     "data": {
      "text/plain": [
       "array([1.        , 0.02344482, 0.01089358, ..., 0.04845822, 0.03643961,\n",
       "       0.03230482])"
      ]
     },
     "execution_count": 33,
     "metadata": {},
     "output_type": "execute_result"
    }
   ],
   "source": [
    "similarity[0]"
   ]
  },
  {
   "cell_type": "code",
   "execution_count": 34,
   "id": "026d308e",
   "metadata": {},
   "outputs": [
    {
     "data": {
      "text/plain": [
       "'Next Generation'"
      ]
     },
     "execution_count": 34,
     "metadata": {},
     "output_type": "execute_result"
    }
   ],
   "source": [
    "df['song'][0]"
   ]
  },
  {
   "cell_type": "code",
   "execution_count": null,
   "id": "f55947b0",
   "metadata": {},
   "outputs": [],
   "source": []
  },
  {
   "cell_type": "code",
   "execution_count": 35,
   "id": "9d080eec",
   "metadata": {},
   "outputs": [
    {
     "data": {
      "text/html": [
       "<div>\n",
       "<style scoped>\n",
       "    .dataframe tbody tr th:only-of-type {\n",
       "        vertical-align: middle;\n",
       "    }\n",
       "\n",
       "    .dataframe tbody tr th {\n",
       "        vertical-align: top;\n",
       "    }\n",
       "\n",
       "    .dataframe thead th {\n",
       "        text-align: right;\n",
       "    }\n",
       "</style>\n",
       "<table border=\"1\" class=\"dataframe\">\n",
       "  <thead>\n",
       "    <tr style=\"text-align: right;\">\n",
       "      <th></th>\n",
       "      <th>artist</th>\n",
       "      <th>song</th>\n",
       "      <th>text</th>\n",
       "    </tr>\n",
       "  </thead>\n",
       "  <tbody>\n",
       "    <tr>\n",
       "      <th>1360</th>\n",
       "      <td>Electric Light Orchestra</td>\n",
       "      <td>Heart Of Hearts</td>\n",
       "      <td>vers they say there 's gold under the stone th...</td>\n",
       "    </tr>\n",
       "  </tbody>\n",
       "</table>\n",
       "</div>"
      ],
      "text/plain": [
       "                        artist             song  \\\n",
       "1360  Electric Light Orchestra  Heart Of Hearts   \n",
       "\n",
       "                                                   text  \n",
       "1360  vers they say there 's gold under the stone th...  "
      ]
     },
     "execution_count": 35,
     "metadata": {},
     "output_type": "execute_result"
    }
   ],
   "source": [
    "df[df['song']=='Heart Of Hearts']"
   ]
  },
  {
   "cell_type": "markdown",
   "id": "033cceef",
   "metadata": {},
   "source": [
    "# recommedation function"
   ]
  },
  {
   "cell_type": "code",
   "execution_count": 36,
   "id": "9795f82a",
   "metadata": {},
   "outputs": [],
   "source": [
    "def recommendation(song_df):\n",
    "    idx = df[df['song'] == song_df].index[0]\n",
    "    distances = sorted(list(enumerate(similarity[idx])),reverse=True,key=lambda x:x[1])\n",
    "    \n",
    "    songs = []\n",
    "    for m_id in distances[1:21]:\n",
    "        songs.append(df.iloc[m_id[0]].song)\n",
    "        \n",
    "    return songs"
   ]
  },
  {
   "cell_type": "code",
   "execution_count": 38,
   "id": "842ff231",
   "metadata": {},
   "outputs": [
    {
     "data": {
      "text/plain": [
       "['Heart To Heart',\n",
       " 'Not Enough Romance',\n",
       " 'Give Your Heart A Break',\n",
       " \"You'll Be In My Heart\",\n",
       " 'Heart Of Stone',\n",
       " 'Heart Of Gold',\n",
       " 'Take It To Heart',\n",
       " 'Slave',\n",
       " 'Had A Dream',\n",
       " 'Love Needs A Heart',\n",
       " 'Never Give Your Heary',\n",
       " 'Heart Full Of Soul',\n",
       " 'Heart Of Gold',\n",
       " 'Kissing A Fool',\n",
       " 'Have You Ever',\n",
       " 'Straight From The Heart',\n",
       " 'Breaking Hearts',\n",
       " 'The Heart Never Learns',\n",
       " \"Don't Be Cruel\",\n",
       " 'Anyone Who Had A Heart']"
      ]
     },
     "execution_count": 38,
     "metadata": {},
     "output_type": "execute_result"
    }
   ],
   "source": [
    "recommendation('Heart Of Hearts')"
   ]
  },
  {
   "cell_type": "markdown",
   "id": "9a6b3388",
   "metadata": {},
   "source": []
  },
  {
   "cell_type": "code",
   "execution_count": 39,
   "id": "aba04293",
   "metadata": {},
   "outputs": [],
   "source": [
    "import pickle\n",
    "pickle.dump(similarity,open('similarity.pkl','wb'))\n",
    "pickle.dump(df,open('df.pkl','wb'))"
   ]
  },
  {
   "cell_type": "code",
   "execution_count": null,
   "id": "9c56a437",
   "metadata": {},
   "outputs": [],
   "source": []
  }
 ],
 "metadata": {
  "kernelspec": {
   "display_name": "Python 3 (ipykernel)",
   "language": "python",
   "name": "python3"
  },
  "language_info": {
   "codemirror_mode": {
    "name": "ipython",
    "version": 3
   },
   "file_extension": ".py",
   "mimetype": "text/x-python",
   "name": "python",
   "nbconvert_exporter": "python",
   "pygments_lexer": "ipython3",
   "version": "3.10.9"
  }
 },
 "nbformat": 4,
 "nbformat_minor": 5
}
